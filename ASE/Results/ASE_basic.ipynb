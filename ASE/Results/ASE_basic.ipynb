{
 "cells": [
  {
   "cell_type": "code",
   "execution_count": 5,
   "metadata": {},
   "outputs": [],
   "source": [
    "import numpy as np"
   ]
  },
  {
   "cell_type": "markdown",
   "metadata": {},
   "source": [
    "Create and save a file with 1 water as a xyz (look what is a difference between 'extended xyz' and 'xyz' file)"
   ]
  },
  {
   "cell_type": "code",
   "execution_count": 4,
   "metadata": {},
   "outputs": [],
   "source": [
    "import ase.build\n",
    "import ase.io\n",
    "\n",
    "h2o = ase.build.molecule(\"H2O\")\n",
    "ase.io.write(\"water.xyz\",h2o,format=\"xyz\")\n",
    "ase.io.write(\"waterext.xyz\",h2o,format=\"extxyz\")\n",
    "# ase.io.write(\"water.extxyz\",h2o,format=\"extxyz\") # you can save it also like this, I am just use to not to put ext in the extension"
   ]
  },
  {
   "cell_type": "markdown",
   "metadata": {},
   "source": [
    "Create and save a file with 2/or more water molecule"
   ]
  },
  {
   "cell_type": "code",
   "execution_count": 6,
   "metadata": {},
   "outputs": [],
   "source": [
    "# This is very arbitrary example to see how you can manipulate with ase.Atoms object\n",
    "h2o = ase.build.molecule(\"H2O\")\n",
    "h2o_sec = ase.build.molecule(\"H2O\")\n",
    "temp = h2o_sec.get_positions()\n",
    "temp += 1.0 # number here is arbitrary\n",
    "h2o_sec.set_positions(temp)\n",
    "h2o += h2o_sec\n",
    "ase.io.write(\"two_waters.xyz\",h2o) # default format is read from the extension in the name, xyz is defaulted to extended xyz "
   ]
  },
  {
   "cell_type": "markdown",
   "metadata": {},
   "source": [
    "Load some structure from Materials Project, randomly displace atoms and save these structures in a file"
   ]
  },
  {
   "cell_type": "code",
   "execution_count": 33,
   "metadata": {},
   "outputs": [],
   "source": [
    "# this can be done without saving a structure, but it is more tedious to do so, I just downloaded CIF file\n",
    "# you don't need to know much about CIF files, just another type in the zoo of type of structure files\n",
    "Li6PS5Cl = ase.io.read(\"Li6PS5Cl.cif\",format=\"cif\")\n",
    "strucs = []\n",
    "temp = Li6PS5Cl.copy()\n",
    "for a in range(50):\n",
    "    temp.rattle(stdev=0.05,seed=a)  \n",
    "    strucs.append(temp.copy())\n",
    "ase.io.write(\"Rattled_structures.xyz\",strucs) # this creates unphysical structures, it just randomly moves atoms"
   ]
  },
  {
   "cell_type": "markdown",
   "metadata": {},
   "source": [
    "Run the tutorial for MD and water "
   ]
  },
  {
   "cell_type": "markdown",
   "metadata": {},
   "source": [
    "Play with atoms.info and atoms.arrays dictionaries to see how they are saved in the final file"
   ]
  },
  {
   "cell_type": "code",
   "execution_count": 43,
   "metadata": {},
   "outputs": [],
   "source": [
    "mol = ase.build.bulk('Cu', 'fcc', a=3.6, cubic=True)\n",
    "# Atoms.info saves a variable as a comment in the line of ext xyz. 1 value for the whole structure\n",
    "ase.io.write(\"without_numbers.xyz\",mol)\n",
    "mol.info[\"random_energy\"] = 42\n",
    "random_forces = np.array([[np.random.rand(), np.random.rand(), np.random.rand()] for _ in mol]) # generate 3 random numbers for each atom in Atoms object mol\n",
    "mol.arrays[\"random_forces\"] = random_forces\n",
    "ase.io.write(\"with_numbers.xyz\",mol)"
   ]
  },
  {
   "cell_type": "markdown",
   "metadata": {},
   "source": [
    "Use ASE GUI to see structures"
   ]
  },
  {
   "cell_type": "code",
   "execution_count": null,
   "metadata": {},
   "outputs": [],
   "source": [
    "from ase.visualize import view\n",
    "view(strucs)"
   ]
  }
 ],
 "metadata": {
  "kernelspec": {
   "display_name": "Python 3",
   "language": "python",
   "name": "python3"
  },
  "language_info": {
   "codemirror_mode": {
    "name": "ipython",
    "version": 3
   },
   "file_extension": ".py",
   "mimetype": "text/x-python",
   "name": "python",
   "nbconvert_exporter": "python",
   "pygments_lexer": "ipython3",
   "version": "3.9.19"
  }
 },
 "nbformat": 4,
 "nbformat_minor": 2
}
